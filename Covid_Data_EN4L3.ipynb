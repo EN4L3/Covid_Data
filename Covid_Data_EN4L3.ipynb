{
 "cells": [
  {
   "cell_type": "markdown",
   "id": "8efa1e20",
   "metadata": {},
   "source": [
    "# Global COVID-19 Mortality by Continent - Using Python/Pandas \n",
    "Dataset From https://covid.ourworldindata.org/data/owid-covid-data.csv"
   ]
  },
  {
   "cell_type": "code",
   "execution_count": null,
   "id": "69c7e64d",
   "metadata": {},
   "outputs": [],
   "source": []
  },
  {
   "cell_type": "code",
   "execution_count": 1,
   "id": "29597253",
   "metadata": {},
   "outputs": [],
   "source": [
    "import pandas as pd\n"
   ]
  },
  {
   "cell_type": "code",
   "execution_count": 2,
   "id": "6f72ec53",
   "metadata": {},
   "outputs": [],
   "source": [
    "import matplotlib.pyplot as plt"
   ]
  },
  {
   "cell_type": "code",
   "execution_count": 3,
   "id": "84fd21ff",
   "metadata": {},
   "outputs": [],
   "source": [
    "import seaborn as sns"
   ]
  },
  {
   "cell_type": "code",
   "execution_count": null,
   "id": "f0dede45",
   "metadata": {},
   "outputs": [],
   "source": []
  },
  {
   "cell_type": "code",
   "execution_count": 4,
   "id": "e20d6d81",
   "metadata": {},
   "outputs": [],
   "source": [
    "#Load The Data Set From Local Directory"
   ]
  },
  {
   "cell_type": "code",
   "execution_count": 5,
   "id": "7dd7ee90",
   "metadata": {},
   "outputs": [],
   "source": [
    "get_filePath = pd.read_csv(\"owid-covid-data.csv\")"
   ]
  },
  {
   "cell_type": "code",
   "execution_count": 6,
   "id": "2d4b4c20",
   "metadata": {},
   "outputs": [],
   "source": [
    "Data = get_filePath"
   ]
  },
  {
   "cell_type": "code",
   "execution_count": null,
   "id": "7d7507d5",
   "metadata": {},
   "outputs": [],
   "source": []
  },
  {
   "cell_type": "code",
   "execution_count": 7,
   "id": "9f8ff7e5",
   "metadata": {},
   "outputs": [],
   "source": [
    "#Explore The Data Set"
   ]
  },
  {
   "cell_type": "code",
   "execution_count": 8,
   "id": "3f80adbd",
   "metadata": {},
   "outputs": [
    {
     "data": {
      "text/plain": [
       "(255834, 67)"
      ]
     },
     "execution_count": 8,
     "metadata": {},
     "output_type": "execute_result"
    }
   ],
   "source": [
    "Data.shape"
   ]
  },
  {
   "cell_type": "code",
   "execution_count": 9,
   "id": "912b71ff",
   "metadata": {},
   "outputs": [
    {
     "data": {
      "text/html": [
       "<div>\n",
       "<style scoped>\n",
       "    .dataframe tbody tr th:only-of-type {\n",
       "        vertical-align: middle;\n",
       "    }\n",
       "\n",
       "    .dataframe tbody tr th {\n",
       "        vertical-align: top;\n",
       "    }\n",
       "\n",
       "    .dataframe thead th {\n",
       "        text-align: right;\n",
       "    }\n",
       "</style>\n",
       "<table border=\"1\" class=\"dataframe\">\n",
       "  <thead>\n",
       "    <tr style=\"text-align: right;\">\n",
       "      <th></th>\n",
       "      <th>iso_code</th>\n",
       "      <th>continent</th>\n",
       "      <th>location</th>\n",
       "      <th>date</th>\n",
       "      <th>total_cases</th>\n",
       "      <th>new_cases</th>\n",
       "      <th>new_cases_smoothed</th>\n",
       "      <th>total_deaths</th>\n",
       "      <th>new_deaths</th>\n",
       "      <th>new_deaths_smoothed</th>\n",
       "      <th>...</th>\n",
       "      <th>male_smokers</th>\n",
       "      <th>handwashing_facilities</th>\n",
       "      <th>hospital_beds_per_thousand</th>\n",
       "      <th>life_expectancy</th>\n",
       "      <th>human_development_index</th>\n",
       "      <th>population</th>\n",
       "      <th>excess_mortality_cumulative_absolute</th>\n",
       "      <th>excess_mortality_cumulative</th>\n",
       "      <th>excess_mortality</th>\n",
       "      <th>excess_mortality_cumulative_per_million</th>\n",
       "    </tr>\n",
       "  </thead>\n",
       "  <tbody>\n",
       "    <tr>\n",
       "      <th>0</th>\n",
       "      <td>AFG</td>\n",
       "      <td>Asia</td>\n",
       "      <td>Afghanistan</td>\n",
       "      <td>2020-02-24</td>\n",
       "      <td>5.0</td>\n",
       "      <td>5.0</td>\n",
       "      <td>NaN</td>\n",
       "      <td>NaN</td>\n",
       "      <td>NaN</td>\n",
       "      <td>NaN</td>\n",
       "      <td>...</td>\n",
       "      <td>NaN</td>\n",
       "      <td>37.746</td>\n",
       "      <td>0.5</td>\n",
       "      <td>64.83</td>\n",
       "      <td>0.511</td>\n",
       "      <td>41128772.0</td>\n",
       "      <td>NaN</td>\n",
       "      <td>NaN</td>\n",
       "      <td>NaN</td>\n",
       "      <td>NaN</td>\n",
       "    </tr>\n",
       "    <tr>\n",
       "      <th>1</th>\n",
       "      <td>AFG</td>\n",
       "      <td>Asia</td>\n",
       "      <td>Afghanistan</td>\n",
       "      <td>2020-02-25</td>\n",
       "      <td>5.0</td>\n",
       "      <td>0.0</td>\n",
       "      <td>NaN</td>\n",
       "      <td>NaN</td>\n",
       "      <td>NaN</td>\n",
       "      <td>NaN</td>\n",
       "      <td>...</td>\n",
       "      <td>NaN</td>\n",
       "      <td>37.746</td>\n",
       "      <td>0.5</td>\n",
       "      <td>64.83</td>\n",
       "      <td>0.511</td>\n",
       "      <td>41128772.0</td>\n",
       "      <td>NaN</td>\n",
       "      <td>NaN</td>\n",
       "      <td>NaN</td>\n",
       "      <td>NaN</td>\n",
       "    </tr>\n",
       "    <tr>\n",
       "      <th>2</th>\n",
       "      <td>AFG</td>\n",
       "      <td>Asia</td>\n",
       "      <td>Afghanistan</td>\n",
       "      <td>2020-02-26</td>\n",
       "      <td>5.0</td>\n",
       "      <td>0.0</td>\n",
       "      <td>NaN</td>\n",
       "      <td>NaN</td>\n",
       "      <td>NaN</td>\n",
       "      <td>NaN</td>\n",
       "      <td>...</td>\n",
       "      <td>NaN</td>\n",
       "      <td>37.746</td>\n",
       "      <td>0.5</td>\n",
       "      <td>64.83</td>\n",
       "      <td>0.511</td>\n",
       "      <td>41128772.0</td>\n",
       "      <td>NaN</td>\n",
       "      <td>NaN</td>\n",
       "      <td>NaN</td>\n",
       "      <td>NaN</td>\n",
       "    </tr>\n",
       "  </tbody>\n",
       "</table>\n",
       "<p>3 rows × 67 columns</p>\n",
       "</div>"
      ],
      "text/plain": [
       "  iso_code continent     location        date  total_cases  new_cases  \\\n",
       "0      AFG      Asia  Afghanistan  2020-02-24          5.0        5.0   \n",
       "1      AFG      Asia  Afghanistan  2020-02-25          5.0        0.0   \n",
       "2      AFG      Asia  Afghanistan  2020-02-26          5.0        0.0   \n",
       "\n",
       "   new_cases_smoothed  total_deaths  new_deaths  new_deaths_smoothed  ...  \\\n",
       "0                 NaN           NaN         NaN                  NaN  ...   \n",
       "1                 NaN           NaN         NaN                  NaN  ...   \n",
       "2                 NaN           NaN         NaN                  NaN  ...   \n",
       "\n",
       "   male_smokers  handwashing_facilities  hospital_beds_per_thousand  \\\n",
       "0           NaN                  37.746                         0.5   \n",
       "1           NaN                  37.746                         0.5   \n",
       "2           NaN                  37.746                         0.5   \n",
       "\n",
       "   life_expectancy  human_development_index  population  \\\n",
       "0            64.83                    0.511  41128772.0   \n",
       "1            64.83                    0.511  41128772.0   \n",
       "2            64.83                    0.511  41128772.0   \n",
       "\n",
       "   excess_mortality_cumulative_absolute  excess_mortality_cumulative  \\\n",
       "0                                   NaN                          NaN   \n",
       "1                                   NaN                          NaN   \n",
       "2                                   NaN                          NaN   \n",
       "\n",
       "   excess_mortality  excess_mortality_cumulative_per_million  \n",
       "0               NaN                                      NaN  \n",
       "1               NaN                                      NaN  \n",
       "2               NaN                                      NaN  \n",
       "\n",
       "[3 rows x 67 columns]"
      ]
     },
     "execution_count": 9,
     "metadata": {},
     "output_type": "execute_result"
    }
   ],
   "source": [
    "Data.head(3)"
   ]
  },
  {
   "cell_type": "code",
   "execution_count": 10,
   "id": "6b274628",
   "metadata": {
    "scrolled": true
   },
   "outputs": [
    {
     "data": {
      "text/plain": [
       "iso_code                                    object\n",
       "continent                                   object\n",
       "location                                    object\n",
       "date                                        object\n",
       "total_cases                                float64\n",
       "                                            ...   \n",
       "population                                 float64\n",
       "excess_mortality_cumulative_absolute       float64\n",
       "excess_mortality_cumulative                float64\n",
       "excess_mortality                           float64\n",
       "excess_mortality_cumulative_per_million    float64\n",
       "Length: 67, dtype: object"
      ]
     },
     "execution_count": 10,
     "metadata": {},
     "output_type": "execute_result"
    }
   ],
   "source": [
    "Data.dtypes"
   ]
  },
  {
   "cell_type": "code",
   "execution_count": null,
   "id": "60d7ce01",
   "metadata": {},
   "outputs": [],
   "source": []
  },
  {
   "cell_type": "code",
   "execution_count": 11,
   "id": "27ab7990",
   "metadata": {},
   "outputs": [],
   "source": [
    "#DATA CLEANING - Remove Duplicates - Remove Missing Data - Fill Missing With 0"
   ]
  },
  {
   "cell_type": "code",
   "execution_count": null,
   "id": "4a8d42ce",
   "metadata": {},
   "outputs": [],
   "source": []
  },
  {
   "cell_type": "code",
   "execution_count": 12,
   "id": "64e5076e",
   "metadata": {},
   "outputs": [],
   "source": [
    "DataDrop = Data.drop_duplicates()"
   ]
  },
  {
   "cell_type": "code",
   "execution_count": 13,
   "id": "4b953f79",
   "metadata": {},
   "outputs": [],
   "source": [
    "CleanData = DataDrop.dropna(axis=1, how='all')"
   ]
  },
  {
   "cell_type": "code",
   "execution_count": 14,
   "id": "8b86f623",
   "metadata": {},
   "outputs": [],
   "source": [
    "CleanData = CleanData.fillna(0)"
   ]
  },
  {
   "cell_type": "code",
   "execution_count": 15,
   "id": "58a5b72f",
   "metadata": {},
   "outputs": [
    {
     "data": {
      "text/html": [
       "<div>\n",
       "<style scoped>\n",
       "    .dataframe tbody tr th:only-of-type {\n",
       "        vertical-align: middle;\n",
       "    }\n",
       "\n",
       "    .dataframe tbody tr th {\n",
       "        vertical-align: top;\n",
       "    }\n",
       "\n",
       "    .dataframe thead th {\n",
       "        text-align: right;\n",
       "    }\n",
       "</style>\n",
       "<table border=\"1\" class=\"dataframe\">\n",
       "  <thead>\n",
       "    <tr style=\"text-align: right;\">\n",
       "      <th></th>\n",
       "      <th>iso_code</th>\n",
       "      <th>continent</th>\n",
       "      <th>location</th>\n",
       "      <th>date</th>\n",
       "      <th>total_cases</th>\n",
       "      <th>new_cases</th>\n",
       "      <th>new_cases_smoothed</th>\n",
       "      <th>total_deaths</th>\n",
       "      <th>new_deaths</th>\n",
       "      <th>new_deaths_smoothed</th>\n",
       "      <th>...</th>\n",
       "      <th>male_smokers</th>\n",
       "      <th>handwashing_facilities</th>\n",
       "      <th>hospital_beds_per_thousand</th>\n",
       "      <th>life_expectancy</th>\n",
       "      <th>human_development_index</th>\n",
       "      <th>population</th>\n",
       "      <th>excess_mortality_cumulative_absolute</th>\n",
       "      <th>excess_mortality_cumulative</th>\n",
       "      <th>excess_mortality</th>\n",
       "      <th>excess_mortality_cumulative_per_million</th>\n",
       "    </tr>\n",
       "  </thead>\n",
       "  <tbody>\n",
       "    <tr>\n",
       "      <th>0</th>\n",
       "      <td>AFG</td>\n",
       "      <td>Asia</td>\n",
       "      <td>Afghanistan</td>\n",
       "      <td>2020-02-24</td>\n",
       "      <td>5.0</td>\n",
       "      <td>5.0</td>\n",
       "      <td>0.0</td>\n",
       "      <td>0.0</td>\n",
       "      <td>0.0</td>\n",
       "      <td>0.000</td>\n",
       "      <td>...</td>\n",
       "      <td>0.0</td>\n",
       "      <td>37.746</td>\n",
       "      <td>0.5</td>\n",
       "      <td>64.83</td>\n",
       "      <td>0.511</td>\n",
       "      <td>41128772.0</td>\n",
       "      <td>0.0</td>\n",
       "      <td>0.0</td>\n",
       "      <td>0.0</td>\n",
       "      <td>0.0</td>\n",
       "    </tr>\n",
       "    <tr>\n",
       "      <th>1</th>\n",
       "      <td>AFG</td>\n",
       "      <td>Asia</td>\n",
       "      <td>Afghanistan</td>\n",
       "      <td>2020-02-25</td>\n",
       "      <td>5.0</td>\n",
       "      <td>0.0</td>\n",
       "      <td>0.0</td>\n",
       "      <td>0.0</td>\n",
       "      <td>0.0</td>\n",
       "      <td>0.000</td>\n",
       "      <td>...</td>\n",
       "      <td>0.0</td>\n",
       "      <td>37.746</td>\n",
       "      <td>0.5</td>\n",
       "      <td>64.83</td>\n",
       "      <td>0.511</td>\n",
       "      <td>41128772.0</td>\n",
       "      <td>0.0</td>\n",
       "      <td>0.0</td>\n",
       "      <td>0.0</td>\n",
       "      <td>0.0</td>\n",
       "    </tr>\n",
       "    <tr>\n",
       "      <th>2</th>\n",
       "      <td>AFG</td>\n",
       "      <td>Asia</td>\n",
       "      <td>Afghanistan</td>\n",
       "      <td>2020-02-26</td>\n",
       "      <td>5.0</td>\n",
       "      <td>0.0</td>\n",
       "      <td>0.0</td>\n",
       "      <td>0.0</td>\n",
       "      <td>0.0</td>\n",
       "      <td>0.000</td>\n",
       "      <td>...</td>\n",
       "      <td>0.0</td>\n",
       "      <td>37.746</td>\n",
       "      <td>0.5</td>\n",
       "      <td>64.83</td>\n",
       "      <td>0.511</td>\n",
       "      <td>41128772.0</td>\n",
       "      <td>0.0</td>\n",
       "      <td>0.0</td>\n",
       "      <td>0.0</td>\n",
       "      <td>0.0</td>\n",
       "    </tr>\n",
       "    <tr>\n",
       "      <th>3</th>\n",
       "      <td>AFG</td>\n",
       "      <td>Asia</td>\n",
       "      <td>Afghanistan</td>\n",
       "      <td>2020-02-27</td>\n",
       "      <td>5.0</td>\n",
       "      <td>0.0</td>\n",
       "      <td>0.0</td>\n",
       "      <td>0.0</td>\n",
       "      <td>0.0</td>\n",
       "      <td>0.000</td>\n",
       "      <td>...</td>\n",
       "      <td>0.0</td>\n",
       "      <td>37.746</td>\n",
       "      <td>0.5</td>\n",
       "      <td>64.83</td>\n",
       "      <td>0.511</td>\n",
       "      <td>41128772.0</td>\n",
       "      <td>0.0</td>\n",
       "      <td>0.0</td>\n",
       "      <td>0.0</td>\n",
       "      <td>0.0</td>\n",
       "    </tr>\n",
       "    <tr>\n",
       "      <th>4</th>\n",
       "      <td>AFG</td>\n",
       "      <td>Asia</td>\n",
       "      <td>Afghanistan</td>\n",
       "      <td>2020-02-28</td>\n",
       "      <td>5.0</td>\n",
       "      <td>0.0</td>\n",
       "      <td>0.0</td>\n",
       "      <td>0.0</td>\n",
       "      <td>0.0</td>\n",
       "      <td>0.000</td>\n",
       "      <td>...</td>\n",
       "      <td>0.0</td>\n",
       "      <td>37.746</td>\n",
       "      <td>0.5</td>\n",
       "      <td>64.83</td>\n",
       "      <td>0.511</td>\n",
       "      <td>41128772.0</td>\n",
       "      <td>0.0</td>\n",
       "      <td>0.0</td>\n",
       "      <td>0.0</td>\n",
       "      <td>0.0</td>\n",
       "    </tr>\n",
       "    <tr>\n",
       "      <th>...</th>\n",
       "      <td>...</td>\n",
       "      <td>...</td>\n",
       "      <td>...</td>\n",
       "      <td>...</td>\n",
       "      <td>...</td>\n",
       "      <td>...</td>\n",
       "      <td>...</td>\n",
       "      <td>...</td>\n",
       "      <td>...</td>\n",
       "      <td>...</td>\n",
       "      <td>...</td>\n",
       "      <td>...</td>\n",
       "      <td>...</td>\n",
       "      <td>...</td>\n",
       "      <td>...</td>\n",
       "      <td>...</td>\n",
       "      <td>...</td>\n",
       "      <td>...</td>\n",
       "      <td>...</td>\n",
       "      <td>...</td>\n",
       "      <td>...</td>\n",
       "    </tr>\n",
       "    <tr>\n",
       "      <th>255829</th>\n",
       "      <td>ZWE</td>\n",
       "      <td>Africa</td>\n",
       "      <td>Zimbabwe</td>\n",
       "      <td>2023-02-03</td>\n",
       "      <td>262324.0</td>\n",
       "      <td>0.0</td>\n",
       "      <td>0.0</td>\n",
       "      <td>5658.0</td>\n",
       "      <td>0.0</td>\n",
       "      <td>0.857</td>\n",
       "      <td>...</td>\n",
       "      <td>30.7</td>\n",
       "      <td>36.791</td>\n",
       "      <td>1.7</td>\n",
       "      <td>61.49</td>\n",
       "      <td>0.571</td>\n",
       "      <td>16320539.0</td>\n",
       "      <td>0.0</td>\n",
       "      <td>0.0</td>\n",
       "      <td>0.0</td>\n",
       "      <td>0.0</td>\n",
       "    </tr>\n",
       "    <tr>\n",
       "      <th>255830</th>\n",
       "      <td>ZWE</td>\n",
       "      <td>Africa</td>\n",
       "      <td>Zimbabwe</td>\n",
       "      <td>2023-02-04</td>\n",
       "      <td>262324.0</td>\n",
       "      <td>0.0</td>\n",
       "      <td>0.0</td>\n",
       "      <td>5658.0</td>\n",
       "      <td>0.0</td>\n",
       "      <td>0.857</td>\n",
       "      <td>...</td>\n",
       "      <td>30.7</td>\n",
       "      <td>36.791</td>\n",
       "      <td>1.7</td>\n",
       "      <td>61.49</td>\n",
       "      <td>0.571</td>\n",
       "      <td>16320539.0</td>\n",
       "      <td>0.0</td>\n",
       "      <td>0.0</td>\n",
       "      <td>0.0</td>\n",
       "      <td>0.0</td>\n",
       "    </tr>\n",
       "    <tr>\n",
       "      <th>255831</th>\n",
       "      <td>ZWE</td>\n",
       "      <td>Africa</td>\n",
       "      <td>Zimbabwe</td>\n",
       "      <td>2023-02-05</td>\n",
       "      <td>262324.0</td>\n",
       "      <td>0.0</td>\n",
       "      <td>0.0</td>\n",
       "      <td>5658.0</td>\n",
       "      <td>0.0</td>\n",
       "      <td>0.857</td>\n",
       "      <td>...</td>\n",
       "      <td>30.7</td>\n",
       "      <td>36.791</td>\n",
       "      <td>1.7</td>\n",
       "      <td>61.49</td>\n",
       "      <td>0.571</td>\n",
       "      <td>16320539.0</td>\n",
       "      <td>0.0</td>\n",
       "      <td>0.0</td>\n",
       "      <td>0.0</td>\n",
       "      <td>0.0</td>\n",
       "    </tr>\n",
       "    <tr>\n",
       "      <th>255832</th>\n",
       "      <td>ZWE</td>\n",
       "      <td>Africa</td>\n",
       "      <td>Zimbabwe</td>\n",
       "      <td>2023-02-06</td>\n",
       "      <td>262324.0</td>\n",
       "      <td>0.0</td>\n",
       "      <td>0.0</td>\n",
       "      <td>5658.0</td>\n",
       "      <td>0.0</td>\n",
       "      <td>0.857</td>\n",
       "      <td>...</td>\n",
       "      <td>30.7</td>\n",
       "      <td>36.791</td>\n",
       "      <td>1.7</td>\n",
       "      <td>61.49</td>\n",
       "      <td>0.571</td>\n",
       "      <td>16320539.0</td>\n",
       "      <td>0.0</td>\n",
       "      <td>0.0</td>\n",
       "      <td>0.0</td>\n",
       "      <td>0.0</td>\n",
       "    </tr>\n",
       "    <tr>\n",
       "      <th>255833</th>\n",
       "      <td>ZWE</td>\n",
       "      <td>Africa</td>\n",
       "      <td>Zimbabwe</td>\n",
       "      <td>2023-02-07</td>\n",
       "      <td>262324.0</td>\n",
       "      <td>0.0</td>\n",
       "      <td>0.0</td>\n",
       "      <td>5658.0</td>\n",
       "      <td>0.0</td>\n",
       "      <td>0.857</td>\n",
       "      <td>...</td>\n",
       "      <td>30.7</td>\n",
       "      <td>36.791</td>\n",
       "      <td>1.7</td>\n",
       "      <td>61.49</td>\n",
       "      <td>0.571</td>\n",
       "      <td>16320539.0</td>\n",
       "      <td>0.0</td>\n",
       "      <td>0.0</td>\n",
       "      <td>0.0</td>\n",
       "      <td>0.0</td>\n",
       "    </tr>\n",
       "  </tbody>\n",
       "</table>\n",
       "<p>255834 rows × 67 columns</p>\n",
       "</div>"
      ],
      "text/plain": [
       "       iso_code continent     location        date  total_cases  new_cases  \\\n",
       "0           AFG      Asia  Afghanistan  2020-02-24          5.0        5.0   \n",
       "1           AFG      Asia  Afghanistan  2020-02-25          5.0        0.0   \n",
       "2           AFG      Asia  Afghanistan  2020-02-26          5.0        0.0   \n",
       "3           AFG      Asia  Afghanistan  2020-02-27          5.0        0.0   \n",
       "4           AFG      Asia  Afghanistan  2020-02-28          5.0        0.0   \n",
       "...         ...       ...          ...         ...          ...        ...   \n",
       "255829      ZWE    Africa     Zimbabwe  2023-02-03     262324.0        0.0   \n",
       "255830      ZWE    Africa     Zimbabwe  2023-02-04     262324.0        0.0   \n",
       "255831      ZWE    Africa     Zimbabwe  2023-02-05     262324.0        0.0   \n",
       "255832      ZWE    Africa     Zimbabwe  2023-02-06     262324.0        0.0   \n",
       "255833      ZWE    Africa     Zimbabwe  2023-02-07     262324.0        0.0   \n",
       "\n",
       "        new_cases_smoothed  total_deaths  new_deaths  new_deaths_smoothed  \\\n",
       "0                      0.0           0.0         0.0                0.000   \n",
       "1                      0.0           0.0         0.0                0.000   \n",
       "2                      0.0           0.0         0.0                0.000   \n",
       "3                      0.0           0.0         0.0                0.000   \n",
       "4                      0.0           0.0         0.0                0.000   \n",
       "...                    ...           ...         ...                  ...   \n",
       "255829                 0.0        5658.0         0.0                0.857   \n",
       "255830                 0.0        5658.0         0.0                0.857   \n",
       "255831                 0.0        5658.0         0.0                0.857   \n",
       "255832                 0.0        5658.0         0.0                0.857   \n",
       "255833                 0.0        5658.0         0.0                0.857   \n",
       "\n",
       "        ...  male_smokers  handwashing_facilities  hospital_beds_per_thousand  \\\n",
       "0       ...           0.0                  37.746                         0.5   \n",
       "1       ...           0.0                  37.746                         0.5   \n",
       "2       ...           0.0                  37.746                         0.5   \n",
       "3       ...           0.0                  37.746                         0.5   \n",
       "4       ...           0.0                  37.746                         0.5   \n",
       "...     ...           ...                     ...                         ...   \n",
       "255829  ...          30.7                  36.791                         1.7   \n",
       "255830  ...          30.7                  36.791                         1.7   \n",
       "255831  ...          30.7                  36.791                         1.7   \n",
       "255832  ...          30.7                  36.791                         1.7   \n",
       "255833  ...          30.7                  36.791                         1.7   \n",
       "\n",
       "        life_expectancy  human_development_index  population  \\\n",
       "0                 64.83                    0.511  41128772.0   \n",
       "1                 64.83                    0.511  41128772.0   \n",
       "2                 64.83                    0.511  41128772.0   \n",
       "3                 64.83                    0.511  41128772.0   \n",
       "4                 64.83                    0.511  41128772.0   \n",
       "...                 ...                      ...         ...   \n",
       "255829            61.49                    0.571  16320539.0   \n",
       "255830            61.49                    0.571  16320539.0   \n",
       "255831            61.49                    0.571  16320539.0   \n",
       "255832            61.49                    0.571  16320539.0   \n",
       "255833            61.49                    0.571  16320539.0   \n",
       "\n",
       "        excess_mortality_cumulative_absolute  excess_mortality_cumulative  \\\n",
       "0                                        0.0                          0.0   \n",
       "1                                        0.0                          0.0   \n",
       "2                                        0.0                          0.0   \n",
       "3                                        0.0                          0.0   \n",
       "4                                        0.0                          0.0   \n",
       "...                                      ...                          ...   \n",
       "255829                                   0.0                          0.0   \n",
       "255830                                   0.0                          0.0   \n",
       "255831                                   0.0                          0.0   \n",
       "255832                                   0.0                          0.0   \n",
       "255833                                   0.0                          0.0   \n",
       "\n",
       "        excess_mortality  excess_mortality_cumulative_per_million  \n",
       "0                    0.0                                      0.0  \n",
       "1                    0.0                                      0.0  \n",
       "2                    0.0                                      0.0  \n",
       "3                    0.0                                      0.0  \n",
       "4                    0.0                                      0.0  \n",
       "...                  ...                                      ...  \n",
       "255829               0.0                                      0.0  \n",
       "255830               0.0                                      0.0  \n",
       "255831               0.0                                      0.0  \n",
       "255832               0.0                                      0.0  \n",
       "255833               0.0                                      0.0  \n",
       "\n",
       "[255834 rows x 67 columns]"
      ]
     },
     "execution_count": 15,
     "metadata": {},
     "output_type": "execute_result"
    }
   ],
   "source": [
    "\n",
    "CleanData.fillna(0)"
   ]
  },
  {
   "cell_type": "code",
   "execution_count": 16,
   "id": "4d8d46e0",
   "metadata": {},
   "outputs": [
    {
     "data": {
      "text/plain": [
       "17140878"
      ]
     },
     "execution_count": 16,
     "metadata": {},
     "output_type": "execute_result"
    }
   ],
   "source": [
    "CleanData.size"
   ]
  },
  {
   "cell_type": "code",
   "execution_count": 17,
   "id": "53e65a19",
   "metadata": {},
   "outputs": [
    {
     "data": {
      "text/plain": [
       "0"
      ]
     },
     "execution_count": 17,
     "metadata": {},
     "output_type": "execute_result"
    }
   ],
   "source": [
    "CleanData.isna().any().sum()"
   ]
  },
  {
   "cell_type": "code",
   "execution_count": 18,
   "id": "4bbcd420",
   "metadata": {},
   "outputs": [
    {
     "data": {
      "text/plain": [
       "0"
      ]
     },
     "execution_count": 18,
     "metadata": {},
     "output_type": "execute_result"
    }
   ],
   "source": [
    "CleanData.isnull().any().sum()"
   ]
  },
  {
   "cell_type": "code",
   "execution_count": null,
   "id": "eca9c556",
   "metadata": {},
   "outputs": [],
   "source": []
  },
  {
   "cell_type": "code",
   "execution_count": null,
   "id": "38ce7dff",
   "metadata": {},
   "outputs": [],
   "source": []
  },
  {
   "cell_type": "code",
   "execution_count": 19,
   "id": "40c3dd50",
   "metadata": {},
   "outputs": [],
   "source": [
    "#Data Type Conversion - Float to Integers ~ Date to Date Time"
   ]
  },
  {
   "cell_type": "code",
   "execution_count": 20,
   "id": "6adefff5",
   "metadata": {},
   "outputs": [],
   "source": [
    "\n",
    "CleanData = CleanData.astype({'total_cases':'int','new_cases':'int','new_cases_smoothed':'int','total_deaths':'int','new_deaths':'int','new_deaths_smoothed':'int','total_cases_per_million':'int','new_cases_per_million':'int','new_cases_smoothed_per_million':'int','total_deaths_per_million':'int','male_smokers':'int','handwashing_facilities':'int','hospital_beds_per_thousand':'int','life_expectancy':'int','population':'int','excess_mortality_cumulative_absolute':'int','excess_mortality':'int'})"
   ]
  },
  {
   "cell_type": "code",
   "execution_count": 21,
   "id": "cd1ab77d",
   "metadata": {},
   "outputs": [],
   "source": [
    "CleanData['date'] = CleanData['date'].astype('datetime64[ns]')"
   ]
  },
  {
   "cell_type": "code",
   "execution_count": 22,
   "id": "cd4e4578",
   "metadata": {},
   "outputs": [
    {
     "data": {
      "text/plain": [
       "iso_code                                           object\n",
       "continent                                          object\n",
       "location                                           object\n",
       "date                                       datetime64[ns]\n",
       "total_cases                                         int64\n",
       "                                                ...      \n",
       "population                                          int64\n",
       "excess_mortality_cumulative_absolute                int64\n",
       "excess_mortality_cumulative                       float64\n",
       "excess_mortality                                    int64\n",
       "excess_mortality_cumulative_per_million           float64\n",
       "Length: 67, dtype: object"
      ]
     },
     "execution_count": 22,
     "metadata": {},
     "output_type": "execute_result"
    }
   ],
   "source": [
    "CleanData.dtypes"
   ]
  },
  {
   "cell_type": "code",
   "execution_count": null,
   "id": "c205afeb",
   "metadata": {},
   "outputs": [],
   "source": []
  },
  {
   "cell_type": "code",
   "execution_count": null,
   "id": "138477fd",
   "metadata": {},
   "outputs": [],
   "source": []
  },
  {
   "cell_type": "code",
   "execution_count": 23,
   "id": "b80c6ec6",
   "metadata": {},
   "outputs": [],
   "source": [
    "#Filtering selected columns into a new dataframe"
   ]
  },
  {
   "cell_type": "code",
   "execution_count": 24,
   "id": "0649f5a2",
   "metadata": {},
   "outputs": [],
   "source": [
    "Filtered_Data = CleanData.filter(items = ['continent','location','date','total_cases','new_cases','total_deaths','new_deaths','population'])"
   ]
  },
  {
   "cell_type": "code",
   "execution_count": 43,
   "id": "f3768d6d",
   "metadata": {},
   "outputs": [
    {
     "data": {
      "text/plain": [
       "Europe           58534\n",
       "Africa           58063\n",
       "Asia             54368\n",
       "North America    38367\n",
       "Oceania          18215\n",
       "South America    13924\n",
       "Name: continent, dtype: int64"
      ]
     },
     "execution_count": 43,
     "metadata": {},
     "output_type": "execute_result"
    }
   ],
   "source": [
    "Filtered_Data[\"continent\"].value_counts()"
   ]
  },
  {
   "cell_type": "code",
   "execution_count": null,
   "id": "7765f99c",
   "metadata": {},
   "outputs": [],
   "source": [
    "#Manipulating The Continent Column - Aim To Visiualize Total Deaths/Total Cases By Continents"
   ]
  },
  {
   "cell_type": "code",
   "execution_count": 44,
   "id": "2c22a653",
   "metadata": {},
   "outputs": [],
   "source": [
    "ConFilter = Filtered_Data"
   ]
  },
  {
   "cell_type": "code",
   "execution_count": 28,
   "id": "b05343a8",
   "metadata": {},
   "outputs": [],
   "source": [
    "XCont = Filtered_Data.continent.str.replace(\"0\",\"No\")"
   ]
  },
  {
   "cell_type": "code",
   "execution_count": 29,
   "id": "8cca1afb",
   "metadata": {},
   "outputs": [
    {
     "data": {
      "text/plain": [
       "Europe           58534\n",
       "Africa           58063\n",
       "Asia             54368\n",
       "North America    38367\n",
       "Oceania          18215\n",
       "South America    13924\n",
       "Name: continent, dtype: int64"
      ]
     },
     "execution_count": 29,
     "metadata": {},
     "output_type": "execute_result"
    }
   ],
   "source": [
    "XCont.value_counts()"
   ]
  },
  {
   "cell_type": "code",
   "execution_count": 30,
   "id": "ce1550c8",
   "metadata": {},
   "outputs": [],
   "source": [
    "ConFilter['continent'] = XCont"
   ]
  },
  {
   "cell_type": "code",
   "execution_count": 31,
   "id": "3811213f",
   "metadata": {},
   "outputs": [
    {
     "data": {
      "text/html": [
       "<div>\n",
       "<style scoped>\n",
       "    .dataframe tbody tr th:only-of-type {\n",
       "        vertical-align: middle;\n",
       "    }\n",
       "\n",
       "    .dataframe tbody tr th {\n",
       "        vertical-align: top;\n",
       "    }\n",
       "\n",
       "    .dataframe thead th {\n",
       "        text-align: right;\n",
       "    }\n",
       "</style>\n",
       "<table border=\"1\" class=\"dataframe\">\n",
       "  <thead>\n",
       "    <tr style=\"text-align: right;\">\n",
       "      <th></th>\n",
       "      <th>continent</th>\n",
       "      <th>location</th>\n",
       "      <th>date</th>\n",
       "      <th>total_cases</th>\n",
       "      <th>new_cases</th>\n",
       "      <th>total_deaths</th>\n",
       "      <th>new_deaths</th>\n",
       "      <th>population</th>\n",
       "    </tr>\n",
       "  </thead>\n",
       "  <tbody>\n",
       "    <tr>\n",
       "      <th>0</th>\n",
       "      <td>Asia</td>\n",
       "      <td>Afghanistan</td>\n",
       "      <td>2020-02-24</td>\n",
       "      <td>5</td>\n",
       "      <td>5</td>\n",
       "      <td>0</td>\n",
       "      <td>0</td>\n",
       "      <td>41128772</td>\n",
       "    </tr>\n",
       "    <tr>\n",
       "      <th>1</th>\n",
       "      <td>Asia</td>\n",
       "      <td>Afghanistan</td>\n",
       "      <td>2020-02-25</td>\n",
       "      <td>5</td>\n",
       "      <td>0</td>\n",
       "      <td>0</td>\n",
       "      <td>0</td>\n",
       "      <td>41128772</td>\n",
       "    </tr>\n",
       "  </tbody>\n",
       "</table>\n",
       "</div>"
      ],
      "text/plain": [
       "  continent     location       date  total_cases  new_cases  total_deaths  \\\n",
       "0      Asia  Afghanistan 2020-02-24            5          5             0   \n",
       "1      Asia  Afghanistan 2020-02-25            5          0             0   \n",
       "\n",
       "   new_deaths  population  \n",
       "0           0    41128772  \n",
       "1           0    41128772  "
      ]
     },
     "execution_count": 31,
     "metadata": {},
     "output_type": "execute_result"
    }
   ],
   "source": [
    "ConFilter.head(2)"
   ]
  },
  {
   "cell_type": "code",
   "execution_count": null,
   "id": "c27c33b5",
   "metadata": {},
   "outputs": [],
   "source": []
  },
  {
   "cell_type": "code",
   "execution_count": 49,
   "id": "a45c8579",
   "metadata": {},
   "outputs": [],
   "source": [
    "# Group the data by continents\n",
    "grouped_data = ConFilter.groupby('continent')"
   ]
  },
  {
   "cell_type": "code",
   "execution_count": 72,
   "id": "f7372c1c",
   "metadata": {},
   "outputs": [],
   "source": [
    "# Calculate the total cases per million people\n",
    "total_cases = grouped_data['total_cases'].sum()\n"
   ]
  },
  {
   "cell_type": "code",
   "execution_count": 73,
   "id": "f6f8ff88",
   "metadata": {},
   "outputs": [
    {
     "data": {
      "text/plain": [
       "<Axes: ylabel='total_cases'>"
      ]
     },
     "execution_count": 73,
     "metadata": {},
     "output_type": "execute_result"
    },
    {
     "data": {
      "image/png": "[encoded data removed]",
      "text/plain": [
       "<Figure size 640x480 with 1 Axes>"
      ]
     },
     "metadata": {},
     "output_type": "display_data"
    }
   ],
   "source": [
    "total_cases.plot.pie()"
   ]
  },
  {
   "cell_type": "code",
   "execution_count": 70,
   "id": "ee9efa4c",
   "metadata": {},
   "outputs": [],
   "source": [
    "total_deaths = grouped_data['total_deaths'].sum()\n"
   ]
  },
  {
   "cell_type": "code",
   "execution_count": 71,
   "id": "1572893c",
   "metadata": {
    "scrolled": true
   },
   "outputs": [
    {
     "data": {
      "text/plain": [
       "<Axes: ylabel='total_deaths'>"
      ]
     },
     "execution_count": 71,
     "metadata": {},
     "output_type": "execute_result"
    },
    {
     "data": {
      "image/png": "[encoded data removed]",
      "text/plain": [
       "<Figure size 640x480 with 1 Axes>"
      ]
     },
     "metadata": {},
     "output_type": "display_data"
    }
   ],
   "source": [
    "total_deaths.plot.pie()"
   ]
  },
  {
   "cell_type": "code",
   "execution_count": null,
   "id": "f7e0e5f3",
   "metadata": {},
   "outputs": [],
   "source": []
  },
  {
   "cell_type": "code",
   "execution_count": 74,
   "id": "9fe1f8be",
   "metadata": {},
   "outputs": [],
   "source": []
  },
  {
   "cell_type": "code",
   "execution_count": 78,
   "id": "72c1362f",
   "metadata": {},
   "outputs": [],
   "source": [
    "# Get the max cases per million people for each continent\n",
    "cases_per_cont= ConFilter.groupby('continent')['total_cases'].max()\n",
    "\n"
   ]
  },
  {
   "cell_type": "code",
   "execution_count": null,
   "id": "9075f19e",
   "metadata": {},
   "outputs": [],
   "source": []
  },
  {
   "cell_type": "code",
   "execution_count": 80,
   "id": "c9a56469",
   "metadata": {},
   "outputs": [
    {
     "data": {
      "image/png": "[encoded data removed]",
      "text/plain": [
       "<Figure size 640x480 with 1 Axes>"
      ]
     },
     "metadata": {},
     "output_type": "display_data"
    }
   ],
   "source": [
    "plt.bar(top_10_cases.index, top_10_cases.values)\n",
    "plt.xticks(rotation=90)\n",
    "plt.xlabel('Continents')\n",
    "plt.ylabel('Total Cases per Million')\n",
    "plt.title(' COVID-19 Cases per Million People')\n",
    "plt.show()\n"
   ]
  },
  {
   "cell_type": "code",
   "execution_count": null,
   "id": "459eba48",
   "metadata": {},
   "outputs": [],
   "source": []
  },
  {
   "cell_type": "code",
   "execution_count": null,
   "id": "55c15cef",
   "metadata": {},
   "outputs": [],
   "source": []
  }
 ],
 "metadata": {
  "kernelspec": {
   "display_name": "Python 3 (ipykernel)",
   "language": "python",
   "name": "python3"
  },
  "language_info": {
   "codemirror_mode": {
    "name": "ipython",
    "version": 3
   },
   "file_extension": ".py",
   "mimetype": "text/x-python",
   "name": "python",
   "nbconvert_exporter": "python",
   "pygments_lexer": "ipython3",
   "version": "3.11.1"
  }
 },
 "nbformat": 4,
 "nbformat_minor": 5
}
